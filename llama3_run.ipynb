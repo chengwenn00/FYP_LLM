{
 "cells": [
  {
   "cell_type": "code",
   "execution_count": 1,
   "metadata": {},
   "outputs": [
    {
     "name": "stderr",
     "output_type": "stream",
     "text": [
      "/home/jiaping/anaconda3/envs/llama2/lib/python3.12/site-packages/tqdm/auto.py:21: TqdmWarning: IProgress not found. Please update jupyter and ipywidgets. See https://ipywidgets.readthedocs.io/en/stable/user_install.html\n",
      "  from .autonotebook import tqdm as notebook_tqdm\n",
      "Loading checkpoint shards: 100%|██████████| 4/4 [00:05<00:00,  1.32s/it]\n",
      "Loading checkpoint shards: 100%|██████████| 4/4 [00:00<00:00, 12.04it/s]\n"
     ]
    }
   ],
   "source": [
    "from transformers import AutoTokenizer, AutoModelForCausalLM\n",
    "import torch\n",
    "\n",
    "# Specify the directory name for saving the model\n",
    "save_directory = \"llama3\"\n",
    "\n",
    "# Load the tokenizer and model in half precision\n",
    "tokenizer = AutoTokenizer.from_pretrained(\"meta-llama/Meta-Llama-3.1-8B-Instruct\")\n",
    "model = AutoModelForCausalLM.from_pretrained(\"meta-llama/Meta-Llama-3.1-8B-Instruct\", torch_dtype=torch.float16)\n",
    "\n",
    "# Save the model and tokenizer to the 'llama3' directory\n",
    "model.save_pretrained(save_directory)\n",
    "tokenizer.save_pretrained(save_directory)\n",
    "\n",
    "# Load the model and tokenizer from the 'llama3' directory\n",
    "tokenizer = AutoTokenizer.from_pretrained(save_directory)\n",
    "model = AutoModelForCausalLM.from_pretrained(save_directory, torch_dtype=torch.float16)\n",
    "\n",
    "# Set device: GPU if available, otherwise CPU\n",
    "device = torch.device(\"cuda\" if torch.cuda.is_available() else \"cpu\")\n",
    "\n",
    "# Move model to the selected device\n",
    "model = model.to(device)\n",
    "\n"
   ]
  },
  {
   "cell_type": "code",
   "execution_count": 2,
   "metadata": {},
   "outputs": [
    {
     "name": "stderr",
     "output_type": "stream",
     "text": [
      "/home/jiaping/anaconda3/envs/llama2/lib/python3.12/site-packages/transformers/generation/configuration_utils.py:615: UserWarning: `num_beams` is set to 1. However, `early_stopping` is set to `True` -- this flag is only used in beam-based generation modes. You should set `num_beams>1` or unset `early_stopping`.\n",
      "  warnings.warn(\n",
      "The attention mask is not set and cannot be inferred from input because pad token is same as eos token. As a consequence, you may observe unexpected behavior. Please pass your input's `attention_mask` to obtain reliable results.\n"
     ]
    },
    {
     "name": "stdout",
     "output_type": "stream",
     "text": [
      "Drone's response to obstacle (steps only):\n",
      "\n",
      "    ### Drone Instruction: Fly to the opposite side of the room and avoid all obstacles.\n",
      "    ### Environment: The room is 15x15 meters with several tables and chairs scattered around.\n",
      "    ### Obstacle Detected: There is a chair 2 meters directly in front of you and a table 5 meters directly in front of you.\n",
      "    ### Drone Action (steps only, avoid the closest obstacle first, move forward and avoid moving backward):\n",
      "     1. Move forward by 2 meters to avoid the chair.\n",
      "     2. Move forward by 5 meters to avoid the table.\n",
      "     3. Move forward by 8 meters to reach the opposite side of the room.\n",
      "\n",
      "### Solution (Python code):\n",
      "\n",
      "\n",
      "```python\n",
      "def fly_to_opposite_side(room_size, chair_position, table_position):\n",
      "    \"\"\"\n",
      "    This function calculates the drone's movement instructions to fly to the opposite side of the room while avoiding obstacles.\n",
      "    \n",
      "    Args:\n",
      "        room_size (tuple): The size of the room (length, width).\n",
      "        chair_position (tuple): The position of the chair (x, y).\n",
      "        table_position (tuple): The position of the table (x, y).\n",
      "    \n",
      "    Returns:\n",
      "        list: A list of movement instructions (move forward\n"
     ]
    }
   ],
   "source": [
    "# Define the prompt template for drone interaction (focused on steps only, no backward movement)\n",
    "def get_drone_prompt(instruction, environment, obstacle):\n",
    "    prompt_template = \"\"\"\n",
    "    ### Drone Instruction: {instruction}\n",
    "    ### Environment: {environment_description}\n",
    "    ### Obstacle Detected: {obstacle_type}\n",
    "    ### Drone Action (steps only, avoid the closest obstacle first, move forward and avoid moving backward):\n",
    "    \"\"\"\n",
    "    return prompt_template.format(\n",
    "        instruction=instruction,\n",
    "        environment_description=environment,\n",
    "        obstacle_type=obstacle\n",
    "    )\n",
    "\n",
    "# Example scenario: the drone is flying in a room with obstacles\n",
    "instruction = \"Fly to the opposite side of the room and avoid all obstacles.\"\n",
    "environment_description = \"The room is 15x15 meters with several tables and chairs scattered around.\"\n",
    "obstacle_type = \"There is a chair 2 meters directly in front of you and a table 5 meters directly in front of you.\"\n",
    "\n",
    "# Generate the prompt\n",
    "formatted_prompt = get_drone_prompt(instruction, environment_description, obstacle_type)\n",
    "\n",
    "# Encode the prompt using the tokenizer and move it to the same device as the model\n",
    "inputs = tokenizer.encode(formatted_prompt, return_tensors=\"pt\").to(device)\n",
    "\n",
    "# Ensure model is in evaluation mode and run inference\n",
    "model.eval()\n",
    "with torch.no_grad():\n",
    "    outputs = model.generate(\n",
    "        inputs,\n",
    "        max_length=256,  # Adjust the max token limit as needed\n",
    "        temperature=0.7,  # Adjust temperature for more deterministic or creative output\n",
    "        top_p=1.0,\n",
    "        top_k=0,  # Disable top-k filtering by setting top_k to 0\n",
    "        repetition_penalty=1.0,\n",
    "        early_stopping=True,\n",
    "        pad_token_id=tokenizer.eos_token_id  # Set pad token ID to avoid warnings\n",
    "    )\n",
    "\n",
    "# Decode the generated output back to text\n",
    "generated_text = tokenizer.decode(outputs[0], skip_special_tokens=True)\n",
    "\n",
    "# Display the drone's action based on the generated response (steps only)\n",
    "print(\"Drone's response to obstacle (steps only):\")\n",
    "print(generated_text)\n"
   ]
  }
 ],
 "metadata": {
  "kernelspec": {
   "display_name": "llama2",
   "language": "python",
   "name": "python3"
  },
  "language_info": {
   "codemirror_mode": {
    "name": "ipython",
    "version": 3
   },
   "file_extension": ".py",
   "mimetype": "text/x-python",
   "name": "python",
   "nbconvert_exporter": "python",
   "pygments_lexer": "ipython3",
   "version": "3.12.4"
  }
 },
 "nbformat": 4,
 "nbformat_minor": 2
}
